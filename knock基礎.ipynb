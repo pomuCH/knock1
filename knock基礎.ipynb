{
  "cells": [
    {
      "cell_type": "markdown",
      "metadata": {
        "id": "view-in-github",
        "colab_type": "text"
      },
      "source": [
        "<a href=\"https://colab.research.google.com/github/pomuCH/knock-/blob/main/knock%E5%9F%BA%E7%A4%8E.ipynb\" target=\"_parent\"><img src=\"https://colab.research.google.com/assets/colab-badge.svg\" alt=\"Open In Colab\"/></a>"
      ]
    },
    {
      "cell_type": "code",
      "execution_count": null,
      "metadata": {
        "colab": {
          "background_save": true,
          "base_uri": "https://localhost:8080/"
        },
        "id": "9jDmGrrQKtjm",
        "outputId": "37a81c0d-154c-4479-f8c3-5fd15c8664d9"
      },
      "outputs": [
        {
          "name": "stdout",
          "output_type": "stream",
          "text": [
            "Overwriting knock10.c\n"
          ]
        }
      ],
      "source": [
        "%%file knock10.c\n",
        "#include<stdio.h>\n",
        "#include<stdlib.h>\n",
        "int main(){\n",
        "    int a;\n",
        "    printf(\"input number:\");\n",
        "    scanf(\"%d\",&a);\n",
        "    printf(\"absolute value is%d\",abs(a));\n",
        "}"
      ]
    },
    {
      "cell_type": "code",
      "source": [
        "%%file knock11.c\n",
        "#include<stdio.h>\n",
        "int main(){\n",
        "    int i;\n",
        "    for(i=0;i<10;i++){\n",
        "        printf(\"Hello World!\\n\");\n",
        "    }\n",
        "    return 0;\n",
        "}"
      ],
      "metadata": {
        "id": "sEKix-3RYW6F",
        "colab": {
          "base_uri": "https://localhost:8080/"
        },
        "outputId": "43d05d6d-6b92-4529-be45-e30dc4b6a736"
      },
      "execution_count": null,
      "outputs": [
        {
          "output_type": "stream",
          "name": "stdout",
          "text": [
            "Overwriting knock11.c\n"
          ]
        }
      ]
    },
    {
      "cell_type": "code",
      "source": [
        "%%file knock12.c\n",
        "#include<stdio.h>\n",
        "int main(){\n",
        "    int a,i;\n",
        "    printf(\"input number: \");\n",
        "    scanf(\"%d\",&a);\n",
        "    for(i=1;;i++){\n",
        "        printf(\"Hello World!\\n\");\n",
        "        if(i>=a){\n",
        "            break;\n",
        "        }\n",
        "    }\n",
        "    return 0;\n",
        "}"
      ],
      "metadata": {
        "colab": {
          "base_uri": "https://localhost:8080/"
        },
        "id": "b0t7k_RZfrUH",
        "outputId": "9d387a4b-4965-43cb-9c79-a906f1a65236"
      },
      "execution_count": null,
      "outputs": [
        {
          "output_type": "stream",
          "name": "stdout",
          "text": [
            "Overwriting knock12.c\n"
          ]
        }
      ]
    },
    {
      "cell_type": "code",
      "source": [
        "%%file knock13.c\n",
        "#include<stdio.h>\n",
        "int main(){\n",
        "    int a,i=0;\n",
        "    printf(\"input number: \");\n",
        "    scanf(\"%d\",&a);\n",
        "    for(;;){\n",
        "        printf(\"%d \\n\",i);\n",
        "        i++;\n",
        "        if(i>a){\n",
        "            break;\n",
        "        }\n",
        "        \n",
        "    }\n",
        "    return 0;\n",
        "}"
      ],
      "metadata": {
        "colab": {
          "base_uri": "https://localhost:8080/"
        },
        "id": "Zk2tqSSzlTzd",
        "outputId": "1f698db3-caea-4f25-fa86-7723028bd86e"
      },
      "execution_count": null,
      "outputs": [
        {
          "output_type": "stream",
          "name": "stdout",
          "text": [
            "Overwriting knock13.c\n"
          ]
        }
      ]
    },
    {
      "cell_type": "code",
      "source": [
        "%%file knock14.c\n",
        "#include<stdio.h>\n",
        "int main(){\n",
        "    int a,i,b=0;\n",
        "    printf(\"input number: \");\n",
        "    scanf(\"%d\",&a);\n",
        "    b+=a;\n",
        "    for(i=0;i<=a;i++){\n",
        "        printf(\"%d\\n\",b);\n",
        "        b--;\n",
        "    }\n",
        "    return 0;\n",
        "}"
      ],
      "metadata": {
        "colab": {
          "base_uri": "https://localhost:8080/"
        },
        "id": "MkDJZ-RloXu1",
        "outputId": "84e17fb8-70cd-4a67-9b77-0a8db95761e5"
      },
      "execution_count": null,
      "outputs": [
        {
          "output_type": "stream",
          "name": "stdout",
          "text": [
            "Overwriting knock14.c\n"
          ]
        }
      ]
    },
    {
      "cell_type": "code",
      "source": [
        "%%file knock15.c\n",
        "#include<stdio.h>\n",
        "int main(){\n",
        "    int a,i,b=0;\n",
        "    printf(\"input number: \");\n",
        "    scanf(\"%d\",&a);\n",
        "    for(i=0;;){\n",
        "        printf(\"%d\\n\",b);\n",
        "        b+=2;\n",
        "        if(b>a){\n",
        "            break;\n",
        "        }\n",
        "    }\n",
        "}"
      ],
      "metadata": {
        "colab": {
          "base_uri": "https://localhost:8080/"
        },
        "id": "fQUMF8hk8DUY",
        "outputId": "329c3a4f-cdc9-41de-a9a6-dd9a1f8c0561"
      },
      "execution_count": null,
      "outputs": [
        {
          "output_type": "stream",
          "name": "stdout",
          "text": [
            "Overwriting knock15.c\n"
          ]
        }
      ]
    },
    {
      "cell_type": "code",
      "source": [
        "%%file knock16.c\n",
        "#include<stdio.h>\n",
        "int main(){\n",
        "    int a;\n",
        "    for(;;){\n",
        "        printf(\"input number: \");\n",
        "        scanf(\"%d\",&a);\n",
        "        if(a==0){\n",
        "            break;\n",
        "        }\n",
        "    }\n",
        "    return 0;\n",
        "}"
      ],
      "metadata": {
        "colab": {
          "base_uri": "https://localhost:8080/"
        },
        "id": "Y26Jh2sc9zkW",
        "outputId": "ea6d1988-a1ca-4e39-e95e-afa6ddfd2e90"
      },
      "execution_count": null,
      "outputs": [
        {
          "output_type": "stream",
          "name": "stdout",
          "text": [
            "Overwriting knock16.c\n"
          ]
        }
      ]
    },
    {
      "cell_type": "code",
      "source": [
        "%%file knock17.c\n",
        "#include<stdio.h>\n",
        "int main(){\n",
        "    int a[10];\n",
        "    int b,i;\n",
        "    for(i=1;i<=10;i++){\n",
        "        scanf(\"%d\",&b);\n",
        "        a[i]=b;\n",
        "        printf(\"%d\\n\",a[i]);\n",
        "    }\n",
        "    return 0;\n",
        "}"
      ],
      "metadata": {
        "colab": {
          "base_uri": "https://localhost:8080/"
        },
        "id": "Gh7eRTf2_ccL",
        "outputId": "9105121e-6374-45f4-e4e8-8894ff354dcc"
      },
      "execution_count": null,
      "outputs": [
        {
          "output_type": "stream",
          "name": "stdout",
          "text": [
            "Overwriting knock17.c\n"
          ]
        }
      ]
    },
    {
      "cell_type": "code",
      "source": [
        "%%file knock18.c\n",
        "#include<stdio.h>\n",
        "int main(){\n",
        "    int a[10];\n",
        "    int i,c;\n",
        "    printf(\"input number: \");\n",
        "    scanf(\"%d\",&c);\n",
        "    for(i=0;i<10;i++){\n",
        "        a[i]=c;\n",
        "        printf(\"%d\\n\",a[i]);\n",
        "    }\n",
        "    return 0;\n",
        "}"
      ],
      "metadata": {
        "colab": {
          "base_uri": "https://localhost:8080/"
        },
        "id": "tw6Wc_uFCuwg",
        "outputId": "c245e4fe-89d5-4e95-c6ea-902d61f0702a"
      },
      "execution_count": null,
      "outputs": [
        {
          "output_type": "stream",
          "name": "stdout",
          "text": [
            "Overwriting knock18.c\n"
          ]
        }
      ]
    },
    {
      "cell_type": "code",
      "source": [
        "%%file knock19.c\n",
        "#include<stdio.h>\n",
        "int main(){\n",
        "    int a[5];\n",
        "    int i,b;\n",
        "    for(i=0;i<5;i++){\n",
        "        printf(\"input number: \");\n",
        "        scanf(\"%d\",&b);\n",
        "        a[i]=b;\n",
        "    }\n",
        "    for(i=0;i<5;i++){\n",
        "        printf(\"%d\\n\",a[i]);\n",
        "    }\n",
        "}"
      ],
      "metadata": {
        "colab": {
          "base_uri": "https://localhost:8080/"
        },
        "id": "IB5MhcW7m7-1",
        "outputId": "90077714-86c7-4100-ac1f-7adc192a2be1"
      },
      "execution_count": null,
      "outputs": [
        {
          "output_type": "stream",
          "name": "stdout",
          "text": [
            "Writing knock19.c\n"
          ]
        }
      ]
    }
  ],
  "metadata": {
    "colab": {
      "name": "knock基礎",
      "provenance": [],
      "authorship_tag": "ABX9TyOAFJa7D+lYB4b+6YhEtlH8",
      "include_colab_link": true
    },
    "kernelspec": {
      "display_name": "Python 3",
      "name": "python3"
    },
    "language_info": {
      "name": "python"
    }
  },
  "nbformat": 4,
  "nbformat_minor": 0
}